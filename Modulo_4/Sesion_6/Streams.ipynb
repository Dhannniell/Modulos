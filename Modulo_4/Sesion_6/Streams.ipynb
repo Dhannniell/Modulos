{
 "cells": [
  {
   "cell_type": "code",
   "execution_count": null,
   "id": "920d0bdf",
   "metadata": {},
   "outputs": [],
   "source": [
    "map(funcion, iterable )"
   ]
  },
  {
   "cell_type": "code",
   "execution_count": 1,
   "id": "64c0739c",
   "metadata": {},
   "outputs": [
    {
     "name": "stdout",
     "output_type": "stream",
     "text": [
      "[1, 4, 9, 16, 25]\n"
     ]
    }
   ],
   "source": [
    "numeros = [1,2,3,4,5]\n",
    "\n",
    "cuadrado = list(map(lambda x:x **2, numeros))\n",
    "\n",
    "print(cuadrado)"
   ]
  },
  {
   "cell_type": "code",
   "execution_count": null,
   "id": "7447c4c8",
   "metadata": {},
   "outputs": [],
   "source": [
    "filter(funcion, iterable)"
   ]
  },
  {
   "cell_type": "code",
   "execution_count": 2,
   "id": "420c2433",
   "metadata": {},
   "outputs": [
    {
     "name": "stdout",
     "output_type": "stream",
     "text": [
      "[2, 4]\n"
     ]
    }
   ],
   "source": [
    "numeros = [1,2,3,4,5]\n",
    "\n",
    "pares = list(filter(lambda x:x % 2 == 0, numeros))\n",
    "\n",
    "print(pares)"
   ]
  },
  {
   "cell_type": "code",
   "execution_count": null,
   "id": "8a1aa99e",
   "metadata": {},
   "outputs": [],
   "source": [
    "from functools import reduce\n",
    "reduce(funcion, iterable)"
   ]
  },
  {
   "cell_type": "markdown",
   "id": "5edcb2fd",
   "metadata": {},
   "source": [
    "#### ***Ejemplo: Sumar todos los elementos de una lista***"
   ]
  },
  {
   "cell_type": "code",
   "execution_count": 3,
   "id": "362144ec",
   "metadata": {},
   "outputs": [
    {
     "name": "stdout",
     "output_type": "stream",
     "text": [
      "15\n"
     ]
    }
   ],
   "source": [
    "from functools import reduce\n",
    "\n",
    "numeros = [1,2,3,4,5]\n",
    "\n",
    "suma_total = reduce(lambda x,y: x+y, numeros)\n",
    "\n",
    "print(suma_total)"
   ]
  },
  {
   "cell_type": "markdown",
   "id": "29020445",
   "metadata": {},
   "source": [
    "#### ***Ejemplo: Encontrar el numero mas grande de una lista***"
   ]
  },
  {
   "cell_type": "code",
   "execution_count": 5,
   "id": "30c2ec20",
   "metadata": {},
   "outputs": [
    {
     "name": "stdout",
     "output_type": "stream",
     "text": [
      "8\n"
     ]
    }
   ],
   "source": [
    "numeros = [3,8,2,4,2,6,1]\n",
    "\n",
    "maximo = reduce(lambda x,y: x if x > y else y, numeros)\n",
    "\n",
    "print(maximo)"
   ]
  },
  {
   "cell_type": "markdown",
   "id": "16694398",
   "metadata": {},
   "source": [
    "#### ***Ejemplo: Procesamiento de Ventas en una Tienda***"
   ]
  },
  {
   "cell_type": "code",
   "execution_count": 8,
   "id": "723f508d",
   "metadata": {},
   "outputs": [
    {
     "name": "stdout",
     "output_type": "stream",
     "text": [
      "Ventas originales: [120, 30, 45, 80, 98, 75, 38, 159, 147, 200]\n",
      "Ventas con descuento: [108.0, 27.0, 40.5, 72.0, 88.2, 67.5, 34.2, 143.1, 132.3, 180.0]\n",
      "Ventas mayores a $100: [108.0, 143.1, 132.3, 180.0]\n"
     ]
    }
   ],
   "source": [
    "#Historial de ventas\n",
    "ventas = [120, 30, 45, 80,98, 75, 38,159,147,200]\n",
    "\n",
    "#Aplicar descuento del %10\n",
    "ventas_descuentos = list(map(lambda x:x * 0.90, ventas))\n",
    "\n",
    "#Filtro solo ventas mayores a 100\n",
    "ventas_filtro = list(filter(lambda x:x > 100, ventas_descuentos))\n",
    "\n",
    "print(f\"Ventas originales: {ventas}\")\n",
    "print(f\"Ventas con descuento: {ventas_descuentos}\")\n",
    "print(f\"Ventas mayores a $100: {ventas_filtro}\")"
   ]
  },
  {
   "cell_type": "markdown",
   "id": "f8510e74",
   "metadata": {},
   "source": [
    "#### ***Ejemplo: Procesamiento de Ventas en una Tienda (Dict)***"
   ]
  },
  {
   "cell_type": "code",
   "execution_count": null,
   "id": "040a6d12",
   "metadata": {},
   "outputs": [],
   "source": [
    "ventas = {\n",
    "    \"Leche\": 5000,\n",
    "    \"Pan\": 500,\n",
    "    \"Comida de Perro 1kg\": 1400 \n",
    "}\n",
    "\n",
    "#Aplicar descuento del %10\n",
    "ventas_descuentos = dict(map(lambda item: (item[0], item[1] * 0.90), ventas.items()))\n",
    "\n",
    "\n",
    "\n",
    "print(f\"Ventas originales: {ventas}\")\n",
    "print(f\"Ventas con descuento: {ventas_descuentos}\")\n"
   ]
  },
  {
   "cell_type": "markdown",
   "id": "76a4144b",
   "metadata": {},
   "source": [
    "#### ***Ejemplo: Procesamiento de Ventas en una Tienda (SOLID)***"
   ]
  },
  {
   "cell_type": "code",
   "execution_count": 9,
   "id": "28382adf",
   "metadata": {},
   "outputs": [
    {
     "ename": "TypeError",
     "evalue": "map() must have at least two arguments.",
     "output_type": "error",
     "traceback": [
      "\u001b[31m---------------------------------------------------------------------------\u001b[39m",
      "\u001b[31mTypeError\u001b[39m                                 Traceback (most recent call last)",
      "\u001b[36mCell\u001b[39m\u001b[36m \u001b[39m\u001b[32mIn[9]\u001b[39m\u001b[32m, line 85\u001b[39m\n\u001b[32m     83\u001b[39m estrategia_descuento = Descuento10PorCiento()\n\u001b[32m     84\u001b[39m gestor = GestorVentas(ventas, estrategia_descuento)\n\u001b[32m---> \u001b[39m\u001b[32m85\u001b[39m ventas_descuentos = \u001b[43mgestor\u001b[49m\u001b[43m.\u001b[49m\u001b[43maplicar_descuento\u001b[49m\u001b[43m(\u001b[49m\u001b[43m)\u001b[49m\n\u001b[32m     87\u001b[39m filtro = FiltroVentas(\u001b[32m100\u001b[39m)\n\u001b[32m     88\u001b[39m ventas_filtro = filtro.filtraPorPrecio(ventas_descuentos)\n",
      "\u001b[36mCell\u001b[39m\u001b[36m \u001b[39m\u001b[32mIn[9]\u001b[39m\u001b[32m, line 27\u001b[39m, in \u001b[36mGestorVentas.aplicar_descuento\u001b[39m\u001b[34m(self)\u001b[39m\n\u001b[32m     26\u001b[39m \u001b[38;5;28;01mdef\u001b[39;00m\u001b[38;5;250m \u001b[39m\u001b[34maplicar_descuento\u001b[39m(\u001b[38;5;28mself\u001b[39m) -> \u001b[38;5;28mdict\u001b[39m:\n\u001b[32m---> \u001b[39m\u001b[32m27\u001b[39m     \u001b[38;5;28;01mreturn\u001b[39;00m \u001b[38;5;28mdict\u001b[39m(\u001b[38;5;28;43mmap\u001b[39;49m\u001b[43m(\u001b[49m\u001b[38;5;28;43;01mlambda\u001b[39;49;00m\u001b[43m \u001b[49m\u001b[43mitem\u001b[49m\u001b[43m:\u001b[49m\u001b[43m \u001b[49m\u001b[43m(\u001b[49m\u001b[43mitem\u001b[49m\u001b[43m \u001b[49m\u001b[43m[\u001b[49m\u001b[32;43m0\u001b[39;49m\u001b[43m]\u001b[49m\u001b[43m,\u001b[49m\u001b[43m \u001b[49m\u001b[38;5;28;43mself\u001b[39;49m\u001b[43m.\u001b[49m\u001b[43mestrategia_descuento\u001b[49m\u001b[43m.\u001b[49m\u001b[43maplicar_descuento\u001b[49m\u001b[43m(\u001b[49m\u001b[43mitem\u001b[49m\u001b[43m[\u001b[49m\u001b[32;43m1\u001b[39;49m\u001b[43m]\u001b[49m\u001b[43m,\u001b[49m\u001b[43m \u001b[49m\u001b[38;5;28;43mself\u001b[39;49m\u001b[43m.\u001b[49m\u001b[43mventas\u001b[49m\u001b[43m.\u001b[49m\u001b[43mitems\u001b[49m\u001b[43m(\u001b[49m\u001b[43m)\u001b[49m\u001b[43m \u001b[49m\u001b[43m)\u001b[49m\u001b[43m)\u001b[49m\u001b[43m)\u001b[49m)\n",
      "\u001b[31mTypeError\u001b[39m: map() must have at least two arguments."
     ]
    }
   ],
   "source": [
    "from abc import ABC, abstractmethod\n",
    "\n",
    "#Interfaz para aplicar un descuento \n",
    "\n",
    "class DescuentoStrategy(ABC):\n",
    "    @abstractmethod\n",
    "    def aplicar_descuento(self, monto:float) -> float:\n",
    "        pass\n",
    "    \n",
    "class Descuento10PorCiento(DescuentoStrategy):\n",
    "    def aplicar_descuento(self, monto:float) -> float:\n",
    "        return monto * 0.90 \n",
    "\n",
    "class FiltroVentas:\n",
    "    def __init__(self, umbral:float):\n",
    "        self.umbral = umbral\n",
    "    \n",
    "    def filtraPorPrecio(self, ventas:dict) -> dict:\n",
    "        return dict(filter(lambda item: item[1] > self.umbral), ventas.items())\n",
    "\n",
    "class GestorVentas:\n",
    "    def __init__(self, ventas:dict, estrategia_descuento:DescuentoStrategy):\n",
    "        self.ventas = ventas\n",
    "        self.estrategia_descuento = estrategia_descuento\n",
    "        \n",
    "    def aplicar_descuento(self) -> dict:\n",
    "        return dict(map(lambda item: (item [0], self.estrategia_descuento.aplicar_descuento(item[1], self.ventas.items() ))))\n",
    "\n",
    "\n",
    "ventas ={\n",
    "    \"Leche\": 5000,\n",
    "    \"Pan\": 500,\n",
    "    \"Comida de Perro 1kg\": 1400,\n",
    "    \"Arroz 1kg\": 2500,\n",
    "    \"Huevos (12 unidades)\": 6000,\n",
    "    \"Aceite vegetal 1L\": 4500,\n",
    "    \"Azúcar 1kg\": 3000,\n",
    "    \"Sal 500g\": 1000,\n",
    "    \"Café 250g\": 8000,\n",
    "    \"Harina de trigo 1kg\": 2200,\n",
    "    \"Pasta dental\": 3500,\n",
    "    \"Jabón de baño\": 2500,\n",
    "    \"Shampoo\": 5500,\n",
    "    \"Papel higiénico (4 rollos)\": 4000,\n",
    "    \"Detergente líquido 1L\": 7000,\n",
    "    \"Manzanas 1kg\": 4500,\n",
    "    \"Plátanos 1kg\": 3000,\n",
    "    \"Tomates 1kg\": 3500,\n",
    "    \"Cebolla 1kg\": 2000,\n",
    "    \"Pollo entero 1kg\": 12000,\n",
    "    \"Carne de res 1kg\": 18000,\n",
    "    \"Queso 250g\": 5000,\n",
    "    \"Yogur natural\": 3000,\n",
    "    \"Mantequilla 250g\": 4000,\n",
    "    \"Galletas 500g\": 3500,\n",
    "    \"Refresco 2L\": 4500,\n",
    "    \"Agua mineral 1L\": 1500,\n",
    "    \"Cerveza (6 unidades)\": 12000,\n",
    "    \"Vino tinto 750ml\": 10000,\n",
    "    \"Chocolate 100g\": 2500,\n",
    "    \"Helado 1L\": 8000,\n",
    "    \"Atún enlatado\": 3500,\n",
    "    \"Sardinas enlatadas\": 3000,\n",
    "    \"Salsa de tomate\": 2500,\n",
    "    \"Mayonesa 500g\": 4500,\n",
    "    \"Mostaza\": 2000,\n",
    "    \"Cereal 500g\": 5000,\n",
    "    \"Leche en polvo 400g\": 6000,\n",
    "    \"Pañales (24 unidades)\": 15000,\n",
    "    \"Toallas femeninas (10 unidades)\": 6000,\n",
    "    \"Desodorante\": 5000,\n",
    "    \"Crema facial\": 7000,\n",
    "    \"Lápiz labial\": 8000,\n",
    "    \"Pasta para sopa 500g\": 3000,\n",
    "    \"Frijoles 1kg\": 4000,\n",
    "    \"Lentejas 1kg\": 3500,\n",
    "    \"Maíz enlatado\": 2500,\n",
    "    \"Avena 500g\": 3000,\n",
    "    \"Miel 500g\": 7000,\n",
    "    \"Nueces 200g\": 6000\n",
    "}\n",
    "\n",
    "estrategia_descuento = Descuento10PorCiento()\n",
    "gestor = GestorVentas(ventas, estrategia_descuento)\n",
    "ventas_descuentos = gestor.aplicar_descuento()\n",
    "\n",
    "filtro = FiltroVentas(100)\n",
    "ventas_filtro = filtro.filtraPorPrecio(ventas_descuentos)\n"
   ]
  }
 ],
 "metadata": {
  "kernelspec": {
   "display_name": "Python 3",
   "language": "python",
   "name": "python3"
  },
  "language_info": {
   "codemirror_mode": {
    "name": "ipython",
    "version": 3
   },
   "file_extension": ".py",
   "mimetype": "text/x-python",
   "name": "python",
   "nbconvert_exporter": "python",
   "pygments_lexer": "ipython3",
   "version": "3.13.0"
  }
 },
 "nbformat": 4,
 "nbformat_minor": 5
}
