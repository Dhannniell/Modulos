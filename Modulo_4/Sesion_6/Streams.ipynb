{
 "cells": [
  {
   "cell_type": "code",
   "execution_count": null,
   "id": "920d0bdf",
   "metadata": {},
   "outputs": [],
   "source": [
    "map(funcion, iterable )"
   ]
  },
  {
   "cell_type": "code",
   "execution_count": 1,
   "id": "64c0739c",
   "metadata": {},
   "outputs": [
    {
     "name": "stdout",
     "output_type": "stream",
     "text": [
      "[1, 4, 9, 16, 25]\n"
     ]
    }
   ],
   "source": [
    "numeros = [1,2,3,4,5]\n",
    "\n",
    "cuadrado = list(map(lambda x:x **2, numeros))\n",
    "\n",
    "print(cuadrado)"
   ]
  },
  {
   "cell_type": "code",
   "execution_count": null,
   "id": "7447c4c8",
   "metadata": {},
   "outputs": [],
   "source": [
    "filter(funcion, iterable)"
   ]
  },
  {
   "cell_type": "code",
   "execution_count": 2,
   "id": "420c2433",
   "metadata": {},
   "outputs": [
    {
     "name": "stdout",
     "output_type": "stream",
     "text": [
      "[2, 4]\n"
     ]
    }
   ],
   "source": [
    "numeros = [1,2,3,4,5]\n",
    "\n",
    "pares = list(filter(lambda x:x % 2 == 0, numeros))\n",
    "\n",
    "print(pares)"
   ]
  },
  {
   "cell_type": "code",
   "execution_count": null,
   "id": "8a1aa99e",
   "metadata": {},
   "outputs": [],
   "source": [
    "from functools import reduce\n",
    "reduce(funcion, iterable)"
   ]
  },
  {
   "cell_type": "markdown",
   "id": "5edcb2fd",
   "metadata": {},
   "source": [
    "#### ***Ejemplo: Sumar todos los elementos de una lista***"
   ]
  },
  {
   "cell_type": "code",
   "execution_count": 3,
   "id": "362144ec",
   "metadata": {},
   "outputs": [
    {
     "name": "stdout",
     "output_type": "stream",
     "text": [
      "15\n"
     ]
    }
   ],
   "source": [
    "from functools import reduce\n",
    "\n",
    "numeros = [1,2,3,4,5]\n",
    "\n",
    "suma_total = reduce(lambda x,y: x+y, numeros)\n",
    "\n",
    "print(suma_total)"
   ]
  },
  {
   "cell_type": "markdown",
   "id": "29020445",
   "metadata": {},
   "source": [
    "#### ***Ejemplo: Encontrar el numero mas grande de una lista***"
   ]
  },
  {
   "cell_type": "code",
   "execution_count": 5,
   "id": "30c2ec20",
   "metadata": {},
   "outputs": [
    {
     "name": "stdout",
     "output_type": "stream",
     "text": [
      "8\n"
     ]
    }
   ],
   "source": [
    "numeros = [3,8,2,4,2,6,1]\n",
    "\n",
    "maximo = reduce(lambda x,y: x if x > y else y, numeros)\n",
    "\n",
    "print(maximo)"
   ]
  },
  {
   "cell_type": "markdown",
   "id": "16694398",
   "metadata": {},
   "source": [
    "#### ***Ejemplo: Procesamiento de Ventas en una Tienda***"
   ]
  },
  {
   "cell_type": "code",
   "execution_count": 8,
   "id": "723f508d",
   "metadata": {},
   "outputs": [
    {
     "name": "stdout",
     "output_type": "stream",
     "text": [
      "Ventas originales: [120, 30, 45, 80, 98, 75, 38, 159, 147, 200]\n",
      "Ventas con descuento: [108.0, 27.0, 40.5, 72.0, 88.2, 67.5, 34.2, 143.1, 132.3, 180.0]\n",
      "Ventas mayores a $100: [108.0, 143.1, 132.3, 180.0]\n"
     ]
    }
   ],
   "source": [
    "#Historial de ventas\n",
    "ventas = [120, 30, 45, 80,98, 75, 38,159,147,200]\n",
    "\n",
    "#Aplicar descuento del %10\n",
    "ventas_descuentos = list(map(lambda x:x * 0.90, ventas))\n",
    "\n",
    "#Filtro solo ventas mayores a 100\n",
    "ventas_filtro = list(filter(lambda x:x > 100, ventas_descuentos))\n",
    "\n",
    "print(f\"Ventas originales: {ventas}\")\n",
    "print(f\"Ventas con descuento: {ventas_descuentos}\")\n",
    "print(f\"Ventas mayores a $100: {ventas_filtro}\")"
   ]
  },
  {
   "cell_type": "markdown",
   "id": "f8510e74",
   "metadata": {},
   "source": [
    "#### ***Ejemplo: Procesamiento de Ventas en una Tienda (Dict)***"
   ]
  },
  {
   "cell_type": "code",
   "execution_count": null,
   "id": "040a6d12",
   "metadata": {},
   "outputs": [],
   "source": [
    "ventas = {\n",
    "    \"Leche\": 5000,\n",
    "    \"Pan\": 500,\n",
    "    \"Comida de Perro 1kg\": 1400 \n",
    "}\n",
    "\n",
    "#Aplicar descuento del %10\n",
    "ventas_descuentos = dict(map(lambda item: (item[0], item[1] * 0.90), ventas.items()))\n",
    "\n",
    "\n",
    "\n",
    "print(f\"Ventas originales: {ventas}\")\n",
    "print(f\"Ventas con descuento: {ventas_descuentos}\")\n"
   ]
  },
  {
   "cell_type": "markdown",
   "id": "76a4144b",
   "metadata": {},
   "source": [
    "#### ***Ejemplo: Procesamiento de Ventas en una Tienda (SOLID)***"
   ]
  },
  {
   "cell_type": "code",
   "execution_count": null,
   "id": "28382adf",
   "metadata": {},
   "outputs": [
    {
     "name": "stdout",
     "output_type": "stream",
     "text": [
      "Ventas originales: {'Leche': 5000, 'Pan': 500, 'Comida de Perro 1kg': 1400, 'Arroz 1kg': 2500, 'Huevos (12 unidades)': 6000, 'Aceite vegetal 1L': 4500, 'Azúcar 1kg': 3000, 'Sal 500g': 1000, 'Café 250g': 8000, 'Harina de trigo 1kg': 2200, 'Pasta dental': 3500, 'Jabón de baño': 2500, 'Shampoo': 5500, 'Papel higiénico (4 rollos)': 4000, 'Detergente líquido 1L': 7000, 'Manzanas 1kg': 4500, 'Plátanos 1kg': 3000, 'Tomates 1kg': 3500, 'Cebolla 1kg': 2000, 'Pollo entero 1kg': 12000, 'Carne de res 1kg': 18000, 'Queso 250g': 5000, 'Yogur natural': 3000, 'Mantequilla 250g': 4000, 'Galletas 500g': 3500, 'Refresco 2L': 4500, 'Agua mineral 1L': 1500, 'Cerveza (6 unidades)': 12000, 'Vino tinto 750ml': 10000, 'Chocolate 100g': 2500, 'Helado 1L': 8000, 'Atún enlatado': 3500, 'Sardinas enlatadas': 3000, 'Salsa de tomate': 2500, 'Mayonesa 500g': 4500, 'Mostaza': 2000, 'Cereal 500g': 5000, 'Leche en polvo 400g': 6000, 'Pañales (24 unidades)': 15000, 'Toallas femeninas (10 unidades)': 6000, 'Desodorante': 5000, 'Crema facial': 7000, 'Lápiz labial': 8000, 'Pasta para sopa 500g': 3000, 'Frijoles 1kg': 4000, 'Lentejas 1kg': 3500, 'Maíz enlatado': 2500, 'Avena 500g': 3000, 'Miel 500g': 7000, 'Nueces 200g': 6000}\n",
      "Ventas con descuento: {'Leche': 4500.0, 'Pan': 450.0, 'Comida de Perro 1kg': 1260.0, 'Arroz 1kg': 2250.0, 'Huevos (12 unidades)': 5400.0, 'Aceite vegetal 1L': 4050.0, 'Azúcar 1kg': 2700.0, 'Sal 500g': 900.0, 'Café 250g': 7200.0, 'Harina de trigo 1kg': 1980.0, 'Pasta dental': 3150.0, 'Jabón de baño': 2250.0, 'Shampoo': 4950.0, 'Papel higiénico (4 rollos)': 3600.0, 'Detergente líquido 1L': 6300.0, 'Manzanas 1kg': 4050.0, 'Plátanos 1kg': 2700.0, 'Tomates 1kg': 3150.0, 'Cebolla 1kg': 1800.0, 'Pollo entero 1kg': 10800.0, 'Carne de res 1kg': 16200.0, 'Queso 250g': 4500.0, 'Yogur natural': 2700.0, 'Mantequilla 250g': 3600.0, 'Galletas 500g': 3150.0, 'Refresco 2L': 4050.0, 'Agua mineral 1L': 1350.0, 'Cerveza (6 unidades)': 10800.0, 'Vino tinto 750ml': 9000.0, 'Chocolate 100g': 2250.0, 'Helado 1L': 7200.0, 'Atún enlatado': 3150.0, 'Sardinas enlatadas': 2700.0, 'Salsa de tomate': 2250.0, 'Mayonesa 500g': 4050.0, 'Mostaza': 1800.0, 'Cereal 500g': 4500.0, 'Leche en polvo 400g': 5400.0, 'Pañales (24 unidades)': 13500.0, 'Toallas femeninas (10 unidades)': 5400.0, 'Desodorante': 4500.0, 'Crema facial': 6300.0, 'Lápiz labial': 7200.0, 'Pasta para sopa 500g': 2700.0, 'Frijoles 1kg': 3600.0, 'Lentejas 1kg': 3150.0, 'Maíz enlatado': 2250.0, 'Avena 500g': 2700.0, 'Miel 500g': 6300.0, 'Nueces 200g': 5400.0}\n",
      "Ventas mayores a $100: {'Leche': 4500.0, 'Arroz 1kg': 2250.0, 'Huevos (12 unidades)': 5400.0, 'Aceite vegetal 1L': 4050.0, 'Azúcar 1kg': 2700.0, 'Café 250g': 7200.0, 'Pasta dental': 3150.0, 'Jabón de baño': 2250.0, 'Shampoo': 4950.0, 'Papel higiénico (4 rollos)': 3600.0, 'Detergente líquido 1L': 6300.0, 'Manzanas 1kg': 4050.0, 'Plátanos 1kg': 2700.0, 'Tomates 1kg': 3150.0, 'Pollo entero 1kg': 10800.0, 'Carne de res 1kg': 16200.0, 'Queso 250g': 4500.0, 'Yogur natural': 2700.0, 'Mantequilla 250g': 3600.0, 'Galletas 500g': 3150.0, 'Refresco 2L': 4050.0, 'Cerveza (6 unidades)': 10800.0, 'Vino tinto 750ml': 9000.0, 'Chocolate 100g': 2250.0, 'Helado 1L': 7200.0, 'Atún enlatado': 3150.0, 'Sardinas enlatadas': 2700.0, 'Salsa de tomate': 2250.0, 'Mayonesa 500g': 4050.0, 'Cereal 500g': 4500.0, 'Leche en polvo 400g': 5400.0, 'Pañales (24 unidades)': 13500.0, 'Toallas femeninas (10 unidades)': 5400.0, 'Desodorante': 4500.0, 'Crema facial': 6300.0, 'Lápiz labial': 7200.0, 'Pasta para sopa 500g': 2700.0, 'Frijoles 1kg': 3600.0, 'Lentejas 1kg': 3150.0, 'Maíz enlatado': 2250.0, 'Avena 500g': 2700.0, 'Miel 500g': 6300.0, 'Nueces 200g': 5400.0}\n",
      "Las ventas con el IVA son: {'Leche': 5355.0, 'Pan': 535.5, 'Comida de Perro 1kg': 1499.3999999999999, 'Arroz 1kg': 2677.5, 'Huevos (12 unidades)': 6426.0, 'Aceite vegetal 1L': 4819.5, 'Azúcar 1kg': 3213.0, 'Sal 500g': 1071.0, 'Café 250g': 8568.0, 'Harina de trigo 1kg': 2356.2, 'Pasta dental': 3748.5, 'Jabón de baño': 2677.5, 'Shampoo': 5890.5, 'Papel higiénico (4 rollos)': 4284.0, 'Detergente líquido 1L': 7497.0, 'Manzanas 1kg': 4819.5, 'Plátanos 1kg': 3213.0, 'Tomates 1kg': 3748.5, 'Cebolla 1kg': 2142.0, 'Pollo entero 1kg': 12852.0, 'Carne de res 1kg': 19278.0, 'Queso 250g': 5355.0, 'Yogur natural': 3213.0, 'Mantequilla 250g': 4284.0, 'Galletas 500g': 3748.5, 'Refresco 2L': 4819.5, 'Agua mineral 1L': 1606.5, 'Cerveza (6 unidades)': 12852.0, 'Vino tinto 750ml': 10710.0, 'Chocolate 100g': 2677.5, 'Helado 1L': 8568.0, 'Atún enlatado': 3748.5, 'Sardinas enlatadas': 3213.0, 'Salsa de tomate': 2677.5, 'Mayonesa 500g': 4819.5, 'Mostaza': 2142.0, 'Cereal 500g': 5355.0, 'Leche en polvo 400g': 6426.0, 'Pañales (24 unidades)': 16065.0, 'Toallas femeninas (10 unidades)': 6426.0, 'Desodorante': 5355.0, 'Crema facial': 7497.0, 'Lápiz labial': 8568.0, 'Pasta para sopa 500g': 3213.0, 'Frijoles 1kg': 4284.0, 'Lentejas 1kg': 3748.5, 'Maíz enlatado': 2677.5, 'Avena 500g': 3213.0, 'Miel 500g': 7497.0, 'Nueces 200g': 6426.0}\n"
     ]
    }
   ],
   "source": [
    "from abc import ABC, abstractmethod\n",
    "\n",
    "#Interfaz para aplicar un descuento \n",
    "\n",
    "class DescuentoStrategy(ABC):\n",
    "    @abstractmethod\n",
    "    def aplicar_descuento(self, monto:float) -> float:\n",
    "        pass\n",
    "    \n",
    "class Descuento10PorCiento(DescuentoStrategy):\n",
    "    def aplicar_descuento(self, monto:float) -> float:\n",
    "        return monto * 0.90 \n",
    "\n",
    "class FiltroVentas:\n",
    "    def __init__(self, umbral:float):\n",
    "        self.umbral = umbral\n",
    "    \n",
    "    def filtraPorPrecio(self, ventas:dict) -> dict:\n",
    "        return dict(filter(lambda item: item[1] > self.umbral, ventas.items()))\n",
    "\n",
    "class GestorVentas:\n",
    "    def __init__(self, ventas:dict, estrategia_descuento:DescuentoStrategy):\n",
    "        self.ventas = ventas\n",
    "        self.estrategia_descuento = estrategia_descuento\n",
    "        \n",
    "    def aplicar_descuento(self) -> dict:\n",
    "        return dict(map(lambda item: (item [0], self.estrategia_descuento.aplicar_descuento(item[1])),self.ventas.items()))\n",
    "\n",
    "class CalculadoraIVA:\n",
    "    \n",
    "    def __init__(self, tasa_iva:float):\n",
    "        self.tasa_iva = tasa_iva\n",
    "    \n",
    "    def aplicar_iva(self, ventas: dict) -> dict:\n",
    "        return {id_venta: monto * (1 + self.tasa_iva) for id_venta, monto in ventas.items()}\n",
    "\n",
    "\n",
    "ventas ={\n",
    "    \"Leche\": 5000,\n",
    "    \"Pan\": 500,\n",
    "    \"Comida de Perro 1kg\": 1400,\n",
    "    \"Arroz 1kg\": 2500,\n",
    "    \"Huevos (12 unidades)\": 6000,\n",
    "    \"Aceite vegetal 1L\": 4500,\n",
    "    \"Azúcar 1kg\": 3000,\n",
    "    \"Sal 500g\": 1000,\n",
    "    \"Café 250g\": 8000,\n",
    "    \"Harina de trigo 1kg\": 2200,\n",
    "    \"Pasta dental\": 3500,\n",
    "    \"Jabón de baño\": 2500,\n",
    "    \"Shampoo\": 5500,\n",
    "    \"Papel higiénico (4 rollos)\": 4000,\n",
    "    \"Detergente líquido 1L\": 7000,\n",
    "    \"Manzanas 1kg\": 4500,\n",
    "    \"Plátanos 1kg\": 3000,\n",
    "    \"Tomates 1kg\": 3500,\n",
    "    \"Cebolla 1kg\": 2000,\n",
    "    \"Pollo entero 1kg\": 12000,\n",
    "    \"Carne de res 1kg\": 18000,\n",
    "    \"Queso 250g\": 5000,\n",
    "    \"Yogur natural\": 3000,\n",
    "    \"Mantequilla 250g\": 4000,\n",
    "    \"Galletas 500g\": 3500,\n",
    "    \"Refresco 2L\": 4500,\n",
    "    \"Agua mineral 1L\": 1500,\n",
    "    \"Cerveza (6 unidades)\": 12000,\n",
    "    \"Vino tinto 750ml\": 10000,\n",
    "    \"Chocolate 100g\": 2500,\n",
    "    \"Helado 1L\": 8000,\n",
    "    \"Atún enlatado\": 3500,\n",
    "    \"Sardinas enlatadas\": 3000,\n",
    "    \"Salsa de tomate\": 2500,\n",
    "    \"Mayonesa 500g\": 4500,\n",
    "    \"Mostaza\": 2000,\n",
    "    \"Cereal 500g\": 5000,\n",
    "    \"Leche en polvo 400g\": 6000,\n",
    "    \"Pañales (24 unidades)\": 15000,\n",
    "    \"Toallas femeninas (10 unidades)\": 6000,\n",
    "    \"Desodorante\": 5000,\n",
    "    \"Crema facial\": 7000,\n",
    "    \"Lápiz labial\": 8000,\n",
    "    \"Pasta para sopa 500g\": 3000,\n",
    "    \"Frijoles 1kg\": 4000,\n",
    "    \"Lentejas 1kg\": 3500,\n",
    "    \"Maíz enlatado\": 2500,\n",
    "    \"Avena 500g\": 3000,\n",
    "    \"Miel 500g\": 7000,\n",
    "    \"Nueces 200g\": 6000\n",
    "}\n",
    "\n",
    "estrategia_descuento = Descuento10PorCiento()\n",
    "gestor = GestorVentas(ventas, estrategia_descuento)\n",
    "ventas_descuentos = gestor.aplicar_descuento()\n",
    "\n",
    "filtro = FiltroVentas(2200)\n",
    "ventas_filtro = filtro.filtraPorPrecio(ventas_descuentos)\n",
    "\n",
    "calcularIVA = CalculadoraIVA(0.19)\n",
    "\n",
    "ventas_con_IVA = calcularIVA.aplicar_iva(ventas_descuentos)\n",
    "\n",
    "print(f\"Ventas originales: {ventas}\")\n",
    "print(f\"Ventas con descuento: {ventas_descuentos}\")\n",
    "print(f\"Ventas mayores a $100: {ventas_filtro}\")\n",
    "print(f\"Ventas con IVA: {ventas_con_IVA}\")"
   ]
  }
 ],
 "metadata": {
  "kernelspec": {
   "display_name": "Python 3",
   "language": "python",
   "name": "python3"
  },
  "language_info": {
   "codemirror_mode": {
    "name": "ipython",
    "version": 3
   },
   "file_extension": ".py",
   "mimetype": "text/x-python",
   "name": "python",
   "nbconvert_exporter": "python",
   "pygments_lexer": "ipython3",
   "version": "3.13.0"
  }
 },
 "nbformat": 4,
 "nbformat_minor": 5
}
