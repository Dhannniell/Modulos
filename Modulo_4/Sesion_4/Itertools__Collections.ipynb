{
 "cells": [
  {
   "cell_type": "markdown",
   "id": "1ef88855",
   "metadata": {},
   "source": [
    "## 1. Introducción: Uso Avanzado de itertools y collections\n",
    "Python ofrece dos módulos fundamentales para el manejo eficiente de datos: itertools y collections.\n",
    "\n",
    "¿Por qué son importantes?\n",
    "itertools permite trabajar con iteradores de manera eficiente, evitando el uso excesivo de memoria y optimizando operaciones complejas.\n",
    "\n",
    "collections proporciona estructuras de datos especializadas que mejoran el rendimiento y la legibilidad del código en comparación con los tipos nativos (list, dict, tuple, etc.).\n",
    "\n",
    "### Objetivos del módulo\n",
    "* Dominar técnicas avanzadas con itertools para:\n",
    "\n",
    "* Generar secuencias infinitas (count, cycle, repeat).\n",
    "\n",
    "* Manejar combinaciones y permutaciones (combinations, permutations).\n",
    "\n",
    "* Agrupar y filtrar datos (groupby, filterfalse).\n",
    "\n",
    "* Optimizar operaciones con múltiples iteradores (chain, zip_longest).\n",
    "\n",
    "* Aprovechar estructuras especializadas de collections para:\n",
    "\n",
    "* Conteo eficiente (Counter).\n",
    "\n",
    "* Diccionarios con valores predeterminados (defaultdict).\n",
    "\n",
    "* Colas de alta performance (deque).\n",
    "\n",
    "* Tuplas con nombres (namedtuple).\n",
    "\n",
    "### ¿Cuándo usarlos?\n",
    "✅ itertools es ideal para:\n",
    "\n",
    "Procesar grandes volúmenes de datos sin cargarlos completos en memoria.\n",
    "\n",
    "Generar secuencias combinatorias (ej: passwords, combinaciones de elementos).\n",
    "\n",
    "Implementar pipelines de procesamiento con iteradores.\n",
    "\n",
    "✅ collections es útil cuando:\n",
    "\n",
    "Necesitas conteos rápidos (ej: análisis de texto, frecuencia de elementos).\n",
    "\n",
    "Requieres diccionarios con comportamientos personalizados (ej: claves anidadas).\n",
    "\n",
    "Trabajas con estructuras FIFO/LIFO de manera óptima (ej: colas, pilas)."
   ]
  },
  {
   "cell_type": "markdown",
   "id": "ffc3fda9",
   "metadata": {},
   "source": [
    "## 2.Tecnincas Avanzadas con Itertools\n",
    "\n",
    "### 2.1 Iteradores Infinitos con Itertools\n",
    "El módulo itertools de Python proporciona herramientas para crear y trabajar con iteradores eficientemente. Entre sus funciones más interesantes están las que permiten crear iteradores infinitos.\n",
    "\n",
    "### Precauciones:\n",
    "Siempre incluir una condición de terminación cuando se usen iteradores infinitos en bucles\n",
    "\n",
    "Pueden consumir memoria si se convierten en listas sin límite\n",
    "\n",
    "Son evaluados de forma perezosa (lazy), por lo que no ocupan memoria infinita mientras se usen adecuadamente\n",
    "\n",
    "Estos iteradores son fundamentales para generar secuencias sin necesidad de almacenarlas completamente en memoria."
   ]
  },
  {
   "cell_type": "code",
   "execution_count": 20,
   "id": "e1bed124",
   "metadata": {},
   "outputs": [
    {
     "name": "stdout",
     "output_type": "stream",
     "text": [
      "10\n",
      "12\n",
      "14\n",
      "16\n",
      "18\n"
     ]
    }
   ],
   "source": [
    "import itertools\n",
    "\n",
    "contador = itertools.count(start=10, step=2)\n",
    "\n",
    "for _ in range(5):\n",
    "    print(next(contador))"
   ]
  },
  {
   "cell_type": "code",
   "execution_count": 21,
   "id": "167466c3",
   "metadata": {},
   "outputs": [
    {
     "name": "stdout",
     "output_type": "stream",
     "text": [
      "Rojo\n",
      "Verde\n",
      "Azul\n",
      "Rojo\n",
      "Verde\n",
      "Azul\n"
     ]
    }
   ],
   "source": [
    "ciclo = itertools.cycle([\"Rojo\", \"Verde\", \"Azul\"])\n",
    "\n",
    "for _ in range(6):\n",
    "    print(next(ciclo))"
   ]
  },
  {
   "cell_type": "code",
   "execution_count": 22,
   "id": "dde43572",
   "metadata": {},
   "outputs": [
    {
     "name": "stdout",
     "output_type": "stream",
     "text": [
      "['Hola', 'Hola', 'Hola', 'Hola', 'Hola']\n"
     ]
    }
   ],
   "source": [
    "repetir = itertools.repeat(\"Hola\", 5)\n",
    "\n",
    "print(list(repetir))"
   ]
  },
  {
   "cell_type": "markdown",
   "id": "26b6a3c7",
   "metadata": {},
   "source": [
    "### 2.2 Combinaciones y Permutaciones con Itertools\n",
    "El módulo itertools ofrece funciones poderosas para trabajar con combinatoria, esenciales en problemas de matemáticas, probabilidad y procesamiento de datos.\n",
    "\n",
    "Funciones principales:\n",
    "### 1. Permutaciones\n",
    "permutations(iterable, r=None)\n",
    "\n",
    "Genera todas las posibles disposiciones ordenadas de los elementos\n",
    "\n",
    "r: longitud de las permutaciones (si no se especifica, usa la longitud completa del iterable)\n",
    "\n",
    "El número de permutaciones es n! / (n-r)! donde n = len(iterable)"
   ]
  },
  {
   "cell_type": "code",
   "execution_count": 24,
   "id": "99997766",
   "metadata": {},
   "outputs": [
    {
     "name": "stdout",
     "output_type": "stream",
     "text": [
      "[('A', 'B', 'C'), ('A', 'C', 'B'), ('B', 'A', 'C'), ('B', 'C', 'A'), ('C', 'A', 'B'), ('C', 'B', 'A')]\n"
     ]
    }
   ],
   "source": [
    "import itertools\n",
    "\n",
    "dato = [\"A\", \"B\", \"C\"]\n",
    "\n",
    "permutacion = list(itertools.permutations(dato,3))\n",
    "\n",
    "print(permutacion)"
   ]
  },
  {
   "cell_type": "markdown",
   "id": "ed460a68",
   "metadata": {},
   "source": [
    "### 2. Combinaciones\n",
    "combinations(iterable, r)\n",
    "\n",
    "Genera todas las posibles selecciones no ordenadas de elementos únicos\n",
    "\n",
    "El orden no importa (AB es igual a BA)\n",
    "\n",
    "El número de combinaciones es n! / (r! * (n-r)!)"
   ]
  },
  {
   "cell_type": "code",
   "execution_count": 25,
   "id": "300ea7df",
   "metadata": {},
   "outputs": [
    {
     "name": "stdout",
     "output_type": "stream",
     "text": [
      "[('A', 'B'), ('A', 'C'), ('B', 'C')]\n"
     ]
    }
   ],
   "source": [
    "combinacion = list(itertools.combinations(dato,2))\n",
    "\n",
    "print(combinacion)"
   ]
  },
  {
   "cell_type": "markdown",
   "id": "df4d3a0d",
   "metadata": {},
   "source": [
    "### 3. Combinaciones con repetición\n",
    "combinations_with_replacement(iterable, r)\n",
    "\n",
    "Similar a combinations, pero permite elementos repetidos\n",
    "\n",
    "El orden no importa"
   ]
  },
  {
   "cell_type": "code",
   "execution_count": 26,
   "id": "4b4723d4",
   "metadata": {},
   "outputs": [
    {
     "name": "stdout",
     "output_type": "stream",
     "text": [
      "[('A', 'A'), ('A', 'B'), ('A', 'C'), ('B', 'B'), ('B', 'C'), ('C', 'C')]\n"
     ]
    }
   ],
   "source": [
    "combinacionConRepeticion = list(itertools.combinations_with_replacement(dato, 2))\n",
    "\n",
    "print(combinacionConRepeticion)"
   ]
  },
  {
   "cell_type": "markdown",
   "id": "780fb956",
   "metadata": {},
   "source": [
    "### Casos de uso típicos:\n",
    "\n",
    "* Procesamiento de datos con conteos frecuentes (Counter)\n",
    "\n",
    "* Implementación de colas eficientes (deque)\n",
    "\n",
    "* Estructuras de datos con campos semánticos (namedtuple)\n",
    "\n",
    "* Manejo de diccionarios con valores por defecto (defaultdict)\n",
    "\n",
    "### Relación entre Itertools y Collections\n",
    "\n",
    "* Ambos módulos complementan el manejo eficiente de datos:\n",
    "\n",
    "* Itertools se enfoca en operaciones con iteradores\n",
    "\n",
    "* Collections proporciona estructuras de datos especializadas\n",
    "\n",
    "* Se usan frecuentemente juntos en pipelines de procesamiento"
   ]
  },
  {
   "cell_type": "markdown",
   "id": "0a878eaa",
   "metadata": {},
   "source": [
    "## 2.3 Introducción a Agrupación y Segmentación\n",
    "### Estas técnicas son esenciales para:\n",
    "\n",
    "* Organizar datos en categorías lógicas\n",
    "\n",
    "* Procesar información por bloques\n",
    "\n",
    "* Implementar operaciones de agregación eficientes\n",
    "\n",
    "* Preparar datos para análisis estadísticos"
   ]
  },
  {
   "cell_type": "code",
   "execution_count": 28,
   "id": "d07c4280",
   "metadata": {},
   "outputs": [
    {
     "name": "stdout",
     "output_type": "stream",
     "text": [
      "Clave 1: [(1, 'A'), (1, 'B')]\n",
      "Clave 2: [(2, 'C'), (2, 'D')]\n",
      "Clave 3: [(3, 'E')]\n"
     ]
    }
   ],
   "source": [
    "datos = [(1, \"A\"),(1, \"B\"),(2, \"C\"),(2, \"D\"),(3, \"E\")]\n",
    "\n",
    "for clave, grupo in itertools.groupby(datos, key= lambda x:x[0]):\n",
    "    print(f\"Clave {clave}: {list(grupo)}\")"
   ]
  },
  {
   "cell_type": "code",
   "execution_count": 29,
   "id": "36a257c0",
   "metadata": {},
   "outputs": [
    {
     "name": "stdout",
     "output_type": "stream",
     "text": [
      "[1, 2, 3, 4, 5]\n"
     ]
    }
   ],
   "source": [
    "datos = iter([1,2,3,4,5])\n",
    "\n",
    "it1, it2 = itertools.tee(datos, 2)\n",
    "print(list(it1))"
   ]
  },
  {
   "cell_type": "markdown",
   "id": "683c6561",
   "metadata": {},
   "source": [
    "## 2.4 Productos Cartesianos y Concatenación con itertools\n",
    "### 1. Productos Cartesianos (itertools.product)\n",
    "### Concepto\n",
    "El producto cartesiano genera todas las combinaciones posibles entre elementos de múltiples iterables, similar a un anidamiento de bucles.\n",
    "\n",
    "Sintaxis\n",
    "python\n",
    "itertools.product(*iterables, repeat=1)\n",
    "* iterables: Secuencias a combinar (listas, tuplas, strings, etc.)\n",
    "\n",
    "* repeat: Repite el mismo iterable varias veces (útil para combinaciones con repetición)"
   ]
  },
  {
   "cell_type": "code",
   "execution_count": 31,
   "id": "900bbf7e",
   "metadata": {},
   "outputs": [
    {
     "name": "stdout",
     "output_type": "stream",
     "text": [
      "[('Rojo', 'S'), ('Rojo', 'M'), ('Verde', 'S'), ('Verde', 'M')]\n"
     ]
    }
   ],
   "source": [
    "colores = [\"Rojo\", \"Verde\"]\n",
    "tallas = [\"S\", \"M\"]\n",
    "\n",
    "print(list(itertools.product(colores,tallas)))"
   ]
  },
  {
   "cell_type": "code",
   "execution_count": 32,
   "id": "1cd5d946",
   "metadata": {},
   "outputs": [
    {
     "name": "stdout",
     "output_type": "stream",
     "text": [
      "[1, 2, 3, 'A', 'B']\n"
     ]
    }
   ],
   "source": [
    "a = [1,2,3,]\n",
    "b = [\"A\", \"B\"]\n",
    "\n",
    "print(list(itertools.chain(a,b)))"
   ]
  },
  {
   "cell_type": "markdown",
   "id": "b7514201",
   "metadata": {},
   "source": [
    "## 3. Tecnicas Avanzadas con collections"
   ]
  },
  {
   "cell_type": "code",
   "execution_count": 36,
   "id": "29a9ed81",
   "metadata": {},
   "outputs": [
    {
     "name": "stdout",
     "output_type": "stream",
     "text": [
      "defaultdict(<class 'list'>, {'A': [1], 'B': [2]})\n"
     ]
    }
   ],
   "source": [
    "import collections\n",
    "\n",
    "d = collections.defaultdict(list)\n",
    "d[\"A\"].append(1)\n",
    "d[\"B\"].append(2)\n",
    "\n",
    "print(d)\n"
   ]
  },
  {
   "cell_type": "code",
   "execution_count": 37,
   "id": "5766a2e4",
   "metadata": {},
   "outputs": [
    {
     "name": "stdout",
     "output_type": "stream",
     "text": [
      "Counter({'manzanas': 2, 'pera': 2, 'naranja': 1})\n"
     ]
    }
   ],
   "source": [
    "#Contador\n",
    "\n",
    "frutas = [\"manzanas\", \"pera\", \"manzanas\", \"pera\",\"naranja\"]\n",
    "conteo = collections.Counter(frutas)\n",
    "\n",
    "print(conteo)"
   ]
  },
  {
   "cell_type": "code",
   "execution_count": 38,
   "id": "0b4ab54b",
   "metadata": {},
   "outputs": [
    {
     "name": "stdout",
     "output_type": "stream",
     "text": [
      "OrderedDict({'a': 1, 'b': 2, 'c': 3})\n"
     ]
    }
   ],
   "source": [
    "d = collections.OrderedDict()\n",
    "d[\"a\"] = 1\n",
    "d[\"b\"] = 2\n",
    "d[\"c\"] = 3\n",
    "\n",
    "print(d)"
   ]
  },
  {
   "cell_type": "markdown",
   "id": "9d4110bc",
   "metadata": {},
   "source": [
    "### itertools — Functions creating iterators for efficient looping    \n",
    "https://docs.python.org/3/library/itertools.html\n",
    "\n",
    "### collections — Container datatypes\n",
    "https://docs.python.org/3/library/collections.html"
   ]
  }
 ],
 "metadata": {
  "kernelspec": {
   "display_name": "Python 3",
   "language": "python",
   "name": "python3"
  },
  "language_info": {
   "codemirror_mode": {
    "name": "ipython",
    "version": 3
   },
   "file_extension": ".py",
   "mimetype": "text/x-python",
   "name": "python",
   "nbconvert_exporter": "python",
   "pygments_lexer": "ipython3",
   "version": "3.13.0"
  }
 },
 "nbformat": 4,
 "nbformat_minor": 5
}
