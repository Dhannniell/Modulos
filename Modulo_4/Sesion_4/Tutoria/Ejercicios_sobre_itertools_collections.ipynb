{
 "cells": [
  {
   "cell_type": "markdown",
   "id": "a29bac3a",
   "metadata": {},
   "source": [
    "## 1. Iterador Personalizado\n",
    "Crea una clase que implemente un iterador para generar los primeros **`n`** numeros pares"
   ]
  },
  {
   "cell_type": "code",
   "execution_count": 2,
   "id": "8c719c24",
   "metadata": {},
   "outputs": [
    {
     "name": "stdout",
     "output_type": "stream",
     "text": [
      "0\n",
      "2\n",
      "4\n",
      "6\n",
      "8\n",
      "10\n",
      "12\n",
      "14\n",
      "16\n",
      "18\n"
     ]
    }
   ],
   "source": [
    "class IteradoresPares:\n",
    "    def __init__(self, n):\n",
    "        self.n = n\n",
    "        self.contador = 0\n",
    "        self.valor_actual = 0\n",
    "        \n",
    "    def __iter__(self):\n",
    "        return self\n",
    "    def __next__(self):\n",
    "        if self.contador >= self.n:\n",
    "            raise StopIteration\n",
    "        par = self.valor_actual\n",
    "        self.valor_actual += 2\n",
    "        self.contador += 1\n",
    "        return par\n",
    "\n",
    "n = 10\n",
    "iterador = IteradoresPares(n)\n",
    "for numero in iterador:\n",
    "    print(numero)"
   ]
  }
 ],
 "metadata": {
  "kernelspec": {
   "display_name": "Python 3",
   "language": "python",
   "name": "python3"
  },
  "language_info": {
   "codemirror_mode": {
    "name": "ipython",
    "version": 3
   },
   "file_extension": ".py",
   "mimetype": "text/x-python",
   "name": "python",
   "nbconvert_exporter": "python",
   "pygments_lexer": "ipython3",
   "version": "3.13.0"
  }
 },
 "nbformat": 4,
 "nbformat_minor": 5
}
