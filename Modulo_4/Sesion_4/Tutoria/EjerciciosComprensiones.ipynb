{
 "cells": [
  {
   "cell_type": "markdown",
   "id": "a0bbc4be",
   "metadata": {},
   "source": [
    "# Ejercicion de Comprensiones en Python"
   ]
  },
  {
   "cell_type": "markdown",
   "id": "ddd732b0",
   "metadata": {},
   "source": [
    "## 1. Lista de Cuadrados \n",
    "Usa una comprension de lista para generar una lista con los cuadrados de los primeros **n** numeros naturales."
   ]
  },
  {
   "cell_type": "code",
   "execution_count": 1,
   "id": "c3ba49d6",
   "metadata": {},
   "outputs": [
    {
     "name": "stdout",
     "output_type": "stream",
     "text": [
      "[1, 4, 9, 16, 25, 36, 49, 64, 81, 100]\n"
     ]
    }
   ],
   "source": [
    "n = 10\n",
    "cuadrados = [x **2 for x in range(1, n+1)]\n",
    "print(cuadrados)"
   ]
  },
  {
   "cell_type": "markdown",
   "id": "e151bbe5",
   "metadata": {},
   "source": []
  },
  {
   "cell_type": "markdown",
   "id": "4bc2a01c",
   "metadata": {},
   "source": [
    "## 2. Filtrar Numeros Pares\n",
    "Crea una comprension de lista que filtre los numeros pares de una lista dada."
   ]
  },
  {
   "cell_type": "code",
   "execution_count": 3,
   "id": "3594c4b3",
   "metadata": {},
   "outputs": [
    {
     "name": "stdout",
     "output_type": "stream",
     "text": [
      "[2, 4, 6, 8, 10, 12, 14, 16, 18, 20, 22, 24]\n"
     ]
    }
   ],
   "source": [
    "lista = list(range(1,25))\n",
    "numeros_pares = [x for x in lista if x % 2 == 0]\n",
    "print(numeros_pares)"
   ]
  },
  {
   "cell_type": "code",
   "execution_count": 9,
   "id": "5adf782d",
   "metadata": {},
   "outputs": [
    {
     "name": "stdout",
     "output_type": "stream",
     "text": [
      "[1, 3, 5, 7, 9, 11, 13, 15, 17, 19, 21, 23]\n"
     ]
    }
   ],
   "source": [
    "lista = list(range(1,25))\n",
    "numeros_impares = [x for x in lista if x % 2 == 1]\n",
    "print(numeros_impares)"
   ]
  },
  {
   "cell_type": "markdown",
   "id": "ff721b33",
   "metadata": {},
   "source": [
    "## 3. Longitud de Palbras\n",
    "Dada un lista de palabras, usa una comprension de lista para obtener una lista con la longitud de cada palabra"
   ]
  },
  {
   "cell_type": "code",
   "execution_count": 13,
   "id": "f92c2a1b",
   "metadata": {},
   "outputs": [
    {
     "name": "stdout",
     "output_type": "stream",
     "text": [
      "[6, 13, 6, 6, 7]\n"
     ]
    }
   ],
   "source": [
    "palabras = [\"Python\", \"Comprensiones\", \"Listas\", \"Codigo\", \"Ejemplo\"]\n",
    "longitud = [len(palabra) for palabra in palabras]\n",
    "print(longitud)"
   ]
  },
  {
   "cell_type": "markdown",
   "id": "1b7ff1f5",
   "metadata": {},
   "source": [
    "## 4. Convertir Texto a Mayusculas \n",
    "Usa una comprension de lista para transformar todas las palabras de una lista en mayusculas."
   ]
  },
  {
   "cell_type": "code",
   "execution_count": 14,
   "id": "1ff61e3c",
   "metadata": {},
   "outputs": [
    {
     "name": "stdout",
     "output_type": "stream",
     "text": [
      "['PYTHON', 'COMPRENSIONES', 'LISTAS', 'CODIGO', 'EJEMPLO']\n"
     ]
    }
   ],
   "source": [
    "palabras_mayusculas = [palabra.upper() for palabra in palabras]\n",
    "print(palabras_mayusculas)"
   ]
  },
  {
   "cell_type": "markdown",
   "id": "57e89acd",
   "metadata": {},
   "source": [
    "## 5. Diccionario Cuadrados\n",
    "Crea una compresion de diccionario donde las claves sea numeros del **1** al **n** y los valores sean sus cuadrados"
   ]
  },
  {
   "cell_type": "code",
   "execution_count": 15,
   "id": "43c7f9ff",
   "metadata": {},
   "outputs": [
    {
     "name": "stdout",
     "output_type": "stream",
     "text": [
      "{1: 1, 2: 4, 3: 9, 4: 16, 5: 25, 6: 36, 7: 49, 8: 64, 9: 81, 10: 100}\n"
     ]
    }
   ],
   "source": [
    "\n",
    "dict_cuadrados = {x:x **2 for x in range(1, n+1)}\n",
    "print(dict_cuadrados)"
   ]
  },
  {
   "cell_type": "markdown",
   "id": "6ed05cea",
   "metadata": {},
   "source": [
    "## 6. Filtrar y Transformar\n",
    "Genera una lista con los cubos de los numeros impares de una lista dada usando una sola comprension"
   ]
  },
  {
   "cell_type": "code",
   "execution_count": 16,
   "id": "3f831405",
   "metadata": {},
   "outputs": [
    {
     "name": "stdout",
     "output_type": "stream",
     "text": [
      "[1, 3, 5, 7, 9, 11, 13, 15, 17, 19, 21, 23]\n"
     ]
    }
   ],
   "source": [
    "lista = list(range(1,25))\n",
    "numeros_pares = [x for x in lista if x % 2 != 0]\n",
    "print(numeros_pares)"
   ]
  },
  {
   "cell_type": "markdown",
   "id": "6d736774",
   "metadata": {},
   "source": [
    "## 7.Invertir Claves y Valores\n",
    "Dado un diccionario, usa una comprension de diccionario para intercambiar sus claves y valores"
   ]
  },
  {
   "cell_type": "code",
   "execution_count": 17,
   "id": "4b4fe303",
   "metadata": {},
   "outputs": [
    {
     "name": "stdout",
     "output_type": "stream",
     "text": [
      "{1: 1, 4: 2, 9: 3, 16: 4, 25: 5, 36: 6, 49: 7, 64: 8, 81: 9, 100: 10}\n"
     ]
    }
   ],
   "source": [
    "dict_invertido = {valor:clave for clave, valor in dict_cuadrados.items()}\n",
    "print(dict_invertido)"
   ]
  },
  {
   "cell_type": "markdown",
   "id": "c267db43",
   "metadata": {},
   "source": [
    "## 8. Palabras con mas de 5 letras \n",
    "Usa una comprension de lista para extraer de una lista de palabras  solo aquellas que tengan mas de 7 letras"
   ]
  },
  {
   "cell_type": "code",
   "execution_count": 20,
   "id": "f1d6a75d",
   "metadata": {},
   "outputs": [
    {
     "name": "stdout",
     "output_type": "stream",
     "text": [
      "['Comprensiones']\n"
     ]
    }
   ],
   "source": [
    "palabras_largas = [palabra for palabra in palabras if len(palabra) > 7]\n",
    "print(palabras_largas)"
   ]
  },
  {
   "cell_type": "markdown",
   "id": "8201e154",
   "metadata": {},
   "source": [
    "## 9.Unir Listas en un Diccionario\n",
    "Dadas dos listas, una con nombres y otra con edades, crea un diccionario donde los nombres sean claves y las edades valores"
   ]
  },
  {
   "cell_type": "code",
   "execution_count": null,
   "id": "b15b7e62",
   "metadata": {},
   "outputs": [],
   "source": [
    "nombres = [\"Ana\", \"Santiago\", \"Diego\", \"Juan\"]\n",
    "edades = [25,26,27,28]\n",
    "dict_nombre_edad = {nombres[i]: edades[i] for i in range(len(nombres))}\n",
    "print(dict_nombre_edad)"
   ]
  }
 ],
 "metadata": {
  "kernelspec": {
   "display_name": "Python 3",
   "language": "python",
   "name": "python3"
  },
  "language_info": {
   "codemirror_mode": {
    "name": "ipython",
    "version": 3
   },
   "file_extension": ".py",
   "mimetype": "text/x-python",
   "name": "python",
   "nbconvert_exporter": "python",
   "pygments_lexer": "ipython3",
   "version": "3.13.0"
  }
 },
 "nbformat": 4,
 "nbformat_minor": 5
}
