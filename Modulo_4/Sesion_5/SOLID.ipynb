{
 "cells": [
  {
   "cell_type": "markdown",
   "id": "a146b213",
   "metadata": {},
   "source": [
    "# SOLID "
   ]
  },
  {
   "cell_type": "markdown",
   "id": "0406b778",
   "metadata": {},
   "source": [
    "## Single Responsability "
   ]
  },
  {
   "cell_type": "code",
   "execution_count": null,
   "id": "2dced2f6",
   "metadata": {},
   "outputs": [
    {
     "name": "stdout",
     "output_type": "stream",
     "text": [
      "Usuario Juan registrado con exito\n"
     ]
    }
   ],
   "source": [
    "'''import bcrypt\n",
    "# No cumple con la \"S\" de SOLID; Single Responsability\n",
    "class Ecommerce:\n",
    "    \n",
    "    def __init__(self):\n",
    "        self.users = {}\n",
    "        \n",
    "    def register(self, username, password):\n",
    "        salt = bcrypt.gensalt()\n",
    "        hashed_password = bcrypt.hashpw(password.encode(), salt)\n",
    "        self.users[username] = hashed_password\n",
    "        print(f\"Usuario {username} registrado con exito\")\n",
    "        \n",
    "ecommerce = Ecommerce()\n",
    "ecommerce.register(\"Juan\",'123')\n",
    "'''"
   ]
  },
  {
   "cell_type": "code",
   "execution_count": null,
   "id": "49fdfca1",
   "metadata": {},
   "outputs": [
    {
     "name": "stdout",
     "output_type": "stream",
     "text": [
      "Usuario Juan registrado con exito\n"
     ]
    }
   ],
   "source": [
    "# Ejemplo que si cumple con el principio SOLID\n",
    "\n",
    "import bcrypt\n",
    "\n",
    "class PasswordManager:\n",
    "    def encrypt_password(self, password:str) -> str:\n",
    "        salt = bcrypt.gensalt()\n",
    "        return bcrypt.hashpw(password.encode(), salt)\n",
    "\n",
    "    def verify_password():\n",
    "        pass\n",
    "    \n",
    "class Ecommerce:\n",
    "    \n",
    "    def __init__(self, password_manager: PasswordManager):\n",
    "        self.users = {}\n",
    "        self.password_manager = password_manager\n",
    "        \n",
    "    def register(self, username, password):\n",
    "        hashed_password = self.password_manager.encrypt_password(password)\n",
    "        self.users[username] = hashed_password\n",
    "        print(f\"Usuario {username} registrado con exito\")\n",
    "\n",
    "password_manager = PasswordManager()\n",
    "ecommerce = Ecommerce(password_manager)\n",
    "ecommerce.register(\"Juan\",'123')"
   ]
  },
  {
   "cell_type": "markdown",
   "id": "27cd3393",
   "metadata": {},
   "source": [
    "## Open / Closed"
   ]
  }
 ],
 "metadata": {
  "kernelspec": {
   "display_name": "Python 3",
   "language": "python",
   "name": "python3"
  },
  "language_info": {
   "codemirror_mode": {
    "name": "ipython",
    "version": 3
   },
   "file_extension": ".py",
   "mimetype": "text/x-python",
   "name": "python",
   "nbconvert_exporter": "python",
   "pygments_lexer": "ipython3",
   "version": "3.13.0"
  }
 },
 "nbformat": 4,
 "nbformat_minor": 5
}
