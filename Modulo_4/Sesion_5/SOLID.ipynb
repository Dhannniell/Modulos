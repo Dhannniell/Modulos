{
 "cells": [
  {
   "cell_type": "markdown",
   "id": "a146b213",
   "metadata": {},
   "source": [
    "# SOLID "
   ]
  },
  {
   "cell_type": "markdown",
   "id": "0406b778",
   "metadata": {},
   "source": [
    "## Single Responsability "
   ]
  },
  {
   "cell_type": "code",
   "execution_count": null,
   "id": "2dced2f6",
   "metadata": {},
   "outputs": [
    {
     "name": "stdout",
     "output_type": "stream",
     "text": [
      "Usuario Juan registrado con exito\n"
     ]
    }
   ],
   "source": [
    "'''import bcrypt\n",
    "# No cumple con la \"S\" de SOLID; Single Responsability\n",
    "class Ecommerce:\n",
    "    \n",
    "    def __init__(self):\n",
    "        self.users = {}\n",
    "        \n",
    "    def register(self, username, password):\n",
    "        salt = bcrypt.gensalt()\n",
    "        hashed_password = bcrypt.hashpw(password.encode(), salt)\n",
    "        self.users[username] = hashed_password\n",
    "        print(f\"Usuario {username} registrado con exito\")\n",
    "        \n",
    "ecommerce = Ecommerce()\n",
    "ecommerce.register(\"Juan\",'123')\n",
    "'''"
   ]
  },
  {
   "cell_type": "code",
   "execution_count": null,
   "id": "49fdfca1",
   "metadata": {},
   "outputs": [
    {
     "name": "stdout",
     "output_type": "stream",
     "text": [
      "Usuario Juan registrado con exito\n"
     ]
    }
   ],
   "source": [
    "# Ejemplo que si cumple con el principio SOLID\n",
    "\n",
    "import bcrypt\n",
    "\n",
    "class PasswordManager:\n",
    "    def encrypt_password(self, password:str) -> str:\n",
    "        salt = bcrypt.gensalt()\n",
    "        return bcrypt.hashpw(password.encode(), salt)\n",
    "\n",
    "    def verify_password():\n",
    "        pass\n",
    "    \n",
    "class Ecommerce:\n",
    "    \n",
    "    def __init__(self, password_manager: PasswordManager):\n",
    "        self.users = {}\n",
    "        self.password_manager = password_manager\n",
    "        \n",
    "    def register(self, username, password):\n",
    "        hashed_password = self.password_manager.encrypt_password(password)\n",
    "        self.users[username] = hashed_password\n",
    "        print(f\"Usuario {username} registrado con exito\")\n",
    "\n",
    "password_manager = PasswordManager()\n",
    "ecommerce = Ecommerce(password_manager)\n",
    "ecommerce.register(\"Juan\",'123')"
   ]
  },
  {
   "cell_type": "markdown",
   "id": "27cd3393",
   "metadata": {},
   "source": [
    "## Open / Closed"
   ]
  },
  {
   "cell_type": "code",
   "execution_count": null,
   "id": "53c5bdc4",
   "metadata": {},
   "outputs": [
    {
     "name": "stdout",
     "output_type": "stream",
     "text": [
      "78.5\n",
      "24\n"
     ]
    }
   ],
   "source": [
    "# No cumple con la \"O\" de SOLID; Open/Closed\n",
    "class CalculadoraDeAreas:\n",
    "    def calcular_area(self, figura: str, **kwargs):\n",
    "        if figura == \"circulo\":\n",
    "            return 3.14 *(kwargs[\"radio\"] ** 2)\n",
    "        elif figura == \"rectangulo\":\n",
    "            return kwargs[\"ancho\"] * kwargs[\"alto\"]\n",
    "        \n",
    "calculadora = CalculadoraDeAreas()\n",
    "print(calculadora.calcular_area(\"circulo\", radio =5))\n",
    "print(calculadora.calcular_area(\"rectangulo\", ancho =4, alto=6))"
   ]
  },
  {
   "cell_type": "code",
   "execution_count": 10,
   "id": "ff3a1092",
   "metadata": {},
   "outputs": [
    {
     "name": "stdout",
     "output_type": "stream",
     "text": [
      "Area de un circulo: 78.5\n",
      "Area de un triangulo: 16.0\n"
     ]
    }
   ],
   "source": [
    "# Usamos abstraccion (abc) para cumplir con la herencia y encapsulamiento\n",
    "from abc import ABC, abstractmethod\n",
    "\n",
    "class FigurasGeometricas(ABC):\n",
    "    @abstractmethod\n",
    "    def calcular_area(self) -> float:\n",
    "        pass\n",
    "    \n",
    "class Circulo(FigurasGeometricas):\n",
    "    def __init__(self, radio:float):\n",
    "        self.radio = radio\n",
    "        \n",
    "    def calcular_area(self) -> float:\n",
    "        return 3.14 *(self.radio ** 2)\n",
    "    \n",
    "class Rectangulo(FigurasGeometricas):\n",
    "    def __init__(self, ancho: float, alto:float):\n",
    "        self.ancho = ancho\n",
    "        self.alto = alto\n",
    "class Triangulo(FigurasGeometricas):\n",
    "    def __init__(self, base: float, altura:float):\n",
    "        self.base = base\n",
    "        self.altura = altura\n",
    "        \n",
    "    def calcular_area(self):\n",
    "        return 0.5 * self.base * self.altura\n",
    "    \n",
    "class CalculadoraDeAreas:\n",
    "    def calcular(self, figura: FigurasGeometricas) -> float:\n",
    "        return figura.calcular_area()\n",
    "    \n",
    "calculadora = CalculadoraDeAreas()\n",
    "circulo = Circulo(5)\n",
    "triangulo = Triangulo(2,16)\n",
    "print(f\"Area de un circulo: {calculadora.calcular(circulo)}\")\n",
    "print(f\"Area de un triangulo: {calculadora.calcular(triangulo)}\")"
   ]
  },
  {
   "cell_type": "markdown",
   "id": "9de808bd",
   "metadata": {},
   "source": [
    "## Liskov Sustitucion "
   ]
  }
 ],
 "metadata": {
  "kernelspec": {
   "display_name": "Python 3",
   "language": "python",
   "name": "python3"
  },
  "language_info": {
   "codemirror_mode": {
    "name": "ipython",
    "version": 3
   },
   "file_extension": ".py",
   "mimetype": "text/x-python",
   "name": "python",
   "nbconvert_exporter": "python",
   "pygments_lexer": "ipython3",
   "version": "3.13.0"
  }
 },
 "nbformat": 4,
 "nbformat_minor": 5
}
