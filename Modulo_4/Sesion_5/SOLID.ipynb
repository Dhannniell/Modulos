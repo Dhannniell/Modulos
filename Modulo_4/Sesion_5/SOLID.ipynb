{
 "cells": [
  {
   "cell_type": "markdown",
   "id": "a146b213",
   "metadata": {},
   "source": [
    "# SOLID "
   ]
  },
  {
   "cell_type": "markdown",
   "id": "0406b778",
   "metadata": {},
   "source": [
    "## Single Responsability "
   ]
  },
  {
   "cell_type": "code",
   "execution_count": null,
   "id": "2dced2f6",
   "metadata": {},
   "outputs": [
    {
     "name": "stdout",
     "output_type": "stream",
     "text": [
      "Usuario Juan registrado con exito\n"
     ]
    }
   ],
   "source": [
    "'''import bcrypt\n",
    "# No cumple con la \"S\" de SOLID; Single Responsability\n",
    "class Ecommerce:\n",
    "    \n",
    "    def __init__(self):\n",
    "        self.users = {}\n",
    "        \n",
    "    def register(self, username, password):\n",
    "        salt = bcrypt.gensalt()\n",
    "        hashed_password = bcrypt.hashpw(password.encode(), salt)\n",
    "        self.users[username] = hashed_password\n",
    "        print(f\"Usuario {username} registrado con exito\")\n",
    "        \n",
    "ecommerce = Ecommerce()\n",
    "ecommerce.register(\"Juan\",'123')\n",
    "'''"
   ]
  },
  {
   "cell_type": "code",
   "execution_count": null,
   "id": "49fdfca1",
   "metadata": {},
   "outputs": [
    {
     "name": "stdout",
     "output_type": "stream",
     "text": [
      "Usuario Juan registrado con exito\n"
     ]
    }
   ],
   "source": [
    "# Ejemplo que si cumple con el principio SOLID\n",
    "\n",
    "import bcrypt\n",
    "\n",
    "class PasswordManager:\n",
    "    def encrypt_password(self, password:str) -> str:\n",
    "        salt = bcrypt.gensalt()\n",
    "        return bcrypt.hashpw(password.encode(), salt)\n",
    "\n",
    "    def verify_password():\n",
    "        pass\n",
    "    \n",
    "class Ecommerce:\n",
    "    \n",
    "    def __init__(self, password_manager: PasswordManager):\n",
    "        self.users = {}\n",
    "        self.password_manager = password_manager\n",
    "        \n",
    "    def register(self, username, password):\n",
    "        hashed_password = self.password_manager.encrypt_password(password)\n",
    "        self.users[username] = hashed_password\n",
    "        print(f\"Usuario {username} registrado con exito\")\n",
    "\n",
    "password_manager = PasswordManager()\n",
    "ecommerce = Ecommerce(password_manager)\n",
    "ecommerce.register(\"Juan\",'123')"
   ]
  },
  {
   "cell_type": "markdown",
   "id": "27cd3393",
   "metadata": {},
   "source": [
    "## Open / Closed"
   ]
  },
  {
   "cell_type": "code",
   "execution_count": null,
   "id": "53c5bdc4",
   "metadata": {},
   "outputs": [
    {
     "name": "stdout",
     "output_type": "stream",
     "text": [
      "78.5\n",
      "24\n"
     ]
    }
   ],
   "source": [
    "# No cumple con la \"O\" de SOLID; Open/Closed\n",
    "class CalculadoraDeAreas:\n",
    "    def calcular_area(self, figura: str, **kwargs):\n",
    "        if figura == \"circulo\":\n",
    "            return 3.14 *(kwargs[\"radio\"] ** 2)\n",
    "        elif figura == \"rectangulo\":\n",
    "            return kwargs[\"ancho\"] * kwargs[\"alto\"]\n",
    "        \n",
    "calculadora = CalculadoraDeAreas()\n",
    "print(calculadora.calcular_area(\"circulo\", radio =5))\n",
    "print(calculadora.calcular_area(\"rectangulo\", ancho =4, alto=6))"
   ]
  },
  {
   "cell_type": "code",
   "execution_count": 10,
   "id": "ff3a1092",
   "metadata": {},
   "outputs": [
    {
     "name": "stdout",
     "output_type": "stream",
     "text": [
      "Area de un circulo: 78.5\n",
      "Area de un triangulo: 16.0\n"
     ]
    }
   ],
   "source": [
    "# Usamos abstraccion (abc) para cumplir con la herencia y encapsulamiento\n",
    "from abc import ABC, abstractmethod\n",
    "\n",
    "class FigurasGeometricas(ABC):\n",
    "    @abstractmethod\n",
    "    def calcular_area(self) -> float:\n",
    "        pass\n",
    "    \n",
    "class Circulo(FigurasGeometricas):\n",
    "    def __init__(self, radio:float):\n",
    "        self.radio = radio\n",
    "        \n",
    "    def calcular_area(self) -> float:\n",
    "        return 3.14 *(self.radio ** 2)\n",
    "    \n",
    "class Rectangulo(FigurasGeometricas):\n",
    "    def __init__(self, ancho: float, alto:float):\n",
    "        self.ancho = ancho\n",
    "        self.alto = alto\n",
    "class Triangulo(FigurasGeometricas):\n",
    "    def __init__(self, base: float, altura:float):\n",
    "        self.base = base\n",
    "        self.altura = altura\n",
    "        \n",
    "    def calcular_area(self):\n",
    "        return 0.5 * self.base * self.altura\n",
    "    \n",
    "class CalculadoraDeAreas:\n",
    "    def calcular(self, figura: FigurasGeometricas) -> float:\n",
    "        return figura.calcular_area()\n",
    "    \n",
    "calculadora = CalculadoraDeAreas()\n",
    "circulo = Circulo(5)\n",
    "triangulo = Triangulo(2,16)\n",
    "print(f\"Area de un circulo: {calculadora.calcular(circulo)}\")\n",
    "print(f\"Area de un triangulo: {calculadora.calcular(triangulo)}\")"
   ]
  },
  {
   "cell_type": "markdown",
   "id": "9de808bd",
   "metadata": {},
   "source": [
    "## Liskov Sustitucion "
   ]
  },
  {
   "cell_type": "code",
   "execution_count": null,
   "id": "3975449d",
   "metadata": {},
   "outputs": [
    {
     "name": "stdout",
     "output_type": "stream",
     "text": [
      "El coche acelera con el motor\n"
     ]
    },
    {
     "ename": "NotImplementedError",
     "evalue": "Las bicicletas no tiene acelerador",
     "output_type": "error",
     "traceback": [
      "\u001b[31m---------------------------------------------------------------------------\u001b[39m",
      "\u001b[31mNotImplementedError\u001b[39m                       Traceback (most recent call last)",
      "\u001b[36mCell\u001b[39m\u001b[36m \u001b[39m\u001b[32mIn[2]\u001b[39m\u001b[32m, line 20\u001b[39m\n\u001b[32m     17\u001b[39m bicicleta = Bicicleta()\n\u001b[32m     19\u001b[39m probar_vehiculo(coche)\n\u001b[32m---> \u001b[39m\u001b[32m20\u001b[39m \u001b[43mprobar_vehiculo\u001b[49m\u001b[43m(\u001b[49m\u001b[43mbicicleta\u001b[49m\u001b[43m)\u001b[49m\n",
      "\u001b[36mCell\u001b[39m\u001b[36m \u001b[39m\u001b[32mIn[2]\u001b[39m\u001b[32m, line 14\u001b[39m, in \u001b[36mprobar_vehiculo\u001b[39m\u001b[34m(vehiculo)\u001b[39m\n\u001b[32m     13\u001b[39m \u001b[38;5;28;01mdef\u001b[39;00m\u001b[38;5;250m \u001b[39m\u001b[34mprobar_vehiculo\u001b[39m(vehiculo: Vehiculo):\n\u001b[32m---> \u001b[39m\u001b[32m14\u001b[39m     \u001b[43mvehiculo\u001b[49m\u001b[43m.\u001b[49m\u001b[43macelerar\u001b[49m\u001b[43m(\u001b[49m\u001b[43m)\u001b[49m\n",
      "\u001b[36mCell\u001b[39m\u001b[36m \u001b[39m\u001b[32mIn[2]\u001b[39m\u001b[32m, line 11\u001b[39m, in \u001b[36mBicicleta.acelerar\u001b[39m\u001b[34m(self)\u001b[39m\n\u001b[32m     10\u001b[39m \u001b[38;5;28;01mdef\u001b[39;00m\u001b[38;5;250m \u001b[39m\u001b[34macelerar\u001b[39m(\u001b[38;5;28mself\u001b[39m):\n\u001b[32m---> \u001b[39m\u001b[32m11\u001b[39m     \u001b[38;5;28;01mraise\u001b[39;00m \u001b[38;5;167;01mNotImplementedError\u001b[39;00m(\u001b[33m\"\u001b[39m\u001b[33mLas bicicletas no tiene acelerador\u001b[39m\u001b[33m\"\u001b[39m)\n",
      "\u001b[31mNotImplementedError\u001b[39m: Las bicicletas no tiene acelerador"
     ]
    }
   ],
   "source": [
    "'''class Vehiculo:\n",
    "    def acelerar(self):\n",
    "        print(\"Aumento de velocidad\")\n",
    "        \n",
    "class Coche(Vehiculo):\n",
    "    def acelerar(self):\n",
    "        print(\"El coche acelera con el motor\")\n",
    "        \n",
    "class Bicicleta(Vehiculo):\n",
    "    def acelerar(self):\n",
    "        raise NotImplementedError(\"Las bicicletas no tiene acelerador\")\n",
    "    \n",
    "def probar_vehiculo(vehiculo: Vehiculo):\n",
    "    vehiculo.acelerar()\n",
    "    \n",
    "coche = Coche()\n",
    "bicicleta = Bicicleta()\n",
    "\n",
    "probar_vehiculo(coche)\n",
    "probar_vehiculo(bicicleta)'''"
   ]
  },
  {
   "cell_type": "code",
   "execution_count": 5,
   "id": "e57d226a",
   "metadata": {},
   "outputs": [
    {
     "name": "stdout",
     "output_type": "stream",
     "text": [
      "El coche se mueve\n",
      "La bicicleta se mueve\n"
     ]
    }
   ],
   "source": [
    "from abc import ABC, abstractmethod\n",
    "\n",
    "class Vehiculo(ABC):\n",
    "    @abstractmethod\n",
    "    def moverse(self):\n",
    "        pass\n",
    "\n",
    "class VehiculoConMotor(Vehiculo):\n",
    "    @abstractmethod\n",
    "    def acelerar(self):\n",
    "        pass\n",
    "    \n",
    "class VehiculoSinMotor(Vehiculo):\n",
    "    @abstractmethod\n",
    "    def pedalear(self):\n",
    "        pass\n",
    "    \n",
    "class Coche(VehiculoConMotor):\n",
    "    def acelerar(self):\n",
    "        print(\"El coche acelera con el motor\")\n",
    "        \n",
    "    def moverse(self):\n",
    "        print(\"El coche se mueve\")\n",
    "        \n",
    "class Bicicleta(VehiculoSinMotor):\n",
    "    def pedalear(self):\n",
    "        print(\"El chico pedalea en la bicicleta\")\n",
    "        \n",
    "    def moverse(self):\n",
    "        print(\"La bicicleta se mueve\")\n",
    "        \n",
    "def probar_vehiculo(vehiculo:Vehiculo):\n",
    "        vehiculo.moverse()\n",
    "        \n",
    "coche = Coche()\n",
    "bicicleta = Bicicleta()\n",
    "\n",
    "probar_vehiculo(coche)\n",
    "probar_vehiculo(bicicleta)"
   ]
  },
  {
   "cell_type": "markdown",
   "id": "837d7072",
   "metadata": {},
   "source": [
    "## Interfaz \n",
    "Segmentar el codigo"
   ]
  },
  {
   "cell_type": "code",
   "execution_count": null,
   "id": "50156321",
   "metadata": {},
   "outputs": [],
   "source": [
    "# Viola los principios SOLID, Notificar depende de EmailService -> Si ejecuta pero no es recomendable \n",
    "'''class EmailService:\n",
    "    def enviar_email(self, mensaje:str):\n",
    "        print(f\"Enviar emial:{mensaje}\")\n",
    "\n",
    "class Notificar:\n",
    "    def __init__(self):\n",
    "        self.email_servicio = EmailService()\n",
    "        \n",
    "    def notificar(self, mensaje: str):\n",
    "        self.email_servicio.enviar_email(mensaje)\n",
    "        \n",
    "notificador = Notificar()\n",
    "notificador.notificar(\"Hola, Somos Dev Senior \")'''"
   ]
  },
  {
   "cell_type": "code",
   "execution_count": null,
   "id": "b4439bb2",
   "metadata": {},
   "outputs": [
    {
     "name": "stdout",
     "output_type": "stream",
     "text": [
      "Enviar SMS: Hola, somos Dev Senior desde SMS\n"
     ]
    },
    {
     "ename": "TypeError",
     "evalue": "EmailService.enviar() missing 1 required positional argument: 'mensaje'",
     "output_type": "error",
     "traceback": [
      "\u001b[31m---------------------------------------------------------------------------\u001b[39m",
      "\u001b[31mTypeError\u001b[39m                                 Traceback (most recent call last)",
      "\u001b[36mCell\u001b[39m\u001b[36m \u001b[39m\u001b[32mIn[5]\u001b[39m\u001b[32m, line 46\u001b[39m\n\u001b[32m     43\u001b[39m sms_notificador = Notificador(SMSService())\n\u001b[32m     45\u001b[39m sms_notificador.notificar(\u001b[33m\"\u001b[39m\u001b[33mHola, somos Dev Senior desde SMS\u001b[39m\u001b[33m\"\u001b[39m)\n\u001b[32m---> \u001b[39m\u001b[32m46\u001b[39m \u001b[43memail_notificador\u001b[49m\u001b[43m.\u001b[49m\u001b[43mnotificar\u001b[49m\u001b[43m(\u001b[49m\u001b[33;43m\"\u001b[39;49m\u001b[33;43mHola, somos Dev Senior desde Email\u001b[39;49m\u001b[33;43m\"\u001b[39;49m\u001b[43m)\u001b[49m\n\u001b[32m     48\u001b[39m email_notificador.modificar_mensaje(\u001b[33m\"\u001b[39m\u001b[33mHola somos Dev Senior desde Email\u001b[39m\u001b[33m\"\u001b[39m) \n",
      "\u001b[36mCell\u001b[39m\u001b[36m \u001b[39m\u001b[32mIn[5]\u001b[39m\u001b[32m, line 32\u001b[39m, in \u001b[36mNotificadorModificable.notificar\u001b[39m\u001b[34m(self, mensaje)\u001b[39m\n\u001b[32m     30\u001b[39m \u001b[38;5;28;01mdef\u001b[39;00m\u001b[38;5;250m \u001b[39m\u001b[34mnotificar\u001b[39m(\u001b[38;5;28mself\u001b[39m, mensaje:\u001b[38;5;28mstr\u001b[39m):\n\u001b[32m     31\u001b[39m     \u001b[38;5;28mself\u001b[39m.mensaje = mensaje\n\u001b[32m---> \u001b[39m\u001b[32m32\u001b[39m     \u001b[38;5;28;43mself\u001b[39;49m\u001b[43m.\u001b[49m\u001b[43mnotificacion\u001b[49m\u001b[43m.\u001b[49m\u001b[43mnotificar\u001b[49m\u001b[43m(\u001b[49m\u001b[43mmensaje\u001b[49m\u001b[43m)\u001b[49m\n",
      "\u001b[36mCell\u001b[39m\u001b[36m \u001b[39m\u001b[32mIn[5]\u001b[39m\u001b[32m, line 23\u001b[39m, in \u001b[36mNotificador.notificar\u001b[39m\u001b[34m(self, mensaje)\u001b[39m\n\u001b[32m     22\u001b[39m \u001b[38;5;28;01mdef\u001b[39;00m\u001b[38;5;250m \u001b[39m\u001b[34mnotificar\u001b[39m(\u001b[38;5;28mself\u001b[39m, mensaje: \u001b[38;5;28mstr\u001b[39m):\n\u001b[32m---> \u001b[39m\u001b[32m23\u001b[39m     \u001b[38;5;28;43mself\u001b[39;49m\u001b[43m.\u001b[49m\u001b[43mservicio\u001b[49m\u001b[43m.\u001b[49m\u001b[43menviar\u001b[49m\u001b[43m(\u001b[49m\u001b[43mmensaje\u001b[49m\u001b[43m)\u001b[49m\n",
      "\u001b[31mTypeError\u001b[39m: EmailService.enviar() missing 1 required positional argument: 'mensaje'"
     ]
    }
   ],
   "source": [
    "# Ejercicio cumpliendo con todos los principios SOLID\n",
    "\n",
    "from abc import ABC, abstractmethod\n",
    "\n",
    "class INotificacion(ABC):\n",
    "    @abstractmethod\n",
    "    def enviar(self, mensaje:str):\n",
    "        pass\n",
    "    \n",
    "class EmailService(INotificacion):\n",
    "    def enviar(self, mensaje: str):\n",
    "        print(f\"Enviar Email: {mensaje}\")\n",
    "        \n",
    "class SMSService(INotificacion):\n",
    "    def enviar(self, mensaje: str):\n",
    "        print(f\"Enviar SMS: {mensaje}\")\n",
    "        \n",
    "class Notificador:\n",
    "    def __init__(self, servicio: INotificacion):\n",
    "        self.servicio = servicio\n",
    "    \n",
    "    def notificar(self, mensaje: str):\n",
    "        self.servicio.enviar(mensaje)\n",
    "\n",
    "class NotificadorModificable:\n",
    "    def __init__(self, notificador: Notificador):\n",
    "        self.notificacion = notificador\n",
    "        self.mensaje = None\n",
    "    \n",
    "    def notificar(self, mensaje:str):\n",
    "        self.mensaje = mensaje\n",
    "        self.notificacion.notificar(mensaje)\n",
    "        \n",
    "    def modificar_mensaje(self, nuevo_mensaje: str):\n",
    "        if self.mensaje is None:\n",
    "            print(\"No hay mensaje previo para modificar\")\n",
    "            return\n",
    "        self.mensaje = nuevo_mensaje\n",
    "        print(f\"Mensaje modificado a {self.mensaje}\")\n",
    "        self.notificacion.notificar(self.mensaje)\n",
    "\n",
    "email_notificador = NotificadorModificable(Notificador(EmailService()))\n",
    "sms_notificador = Notificador(SMSService())\n",
    "\n",
    "sms_notificador.notificar(\"Hola, somos Dev Senior desde SMS\")\n",
    "email_notificador.notificar(\"Hola, somos Dev Senior desde Email\")\n",
    "\n",
    "email_notificador.modificar_mensaje(\"Hola somos Dev Senior desde Email\") "
   ]
  }
 ],
 "metadata": {
  "kernelspec": {
   "display_name": "Python 3",
   "language": "python",
   "name": "python3"
  },
  "language_info": {
   "codemirror_mode": {
    "name": "ipython",
    "version": 3
   },
   "file_extension": ".py",
   "mimetype": "text/x-python",
   "name": "python",
   "nbconvert_exporter": "python",
   "pygments_lexer": "ipython3",
   "version": "3.13.0"
  }
 },
 "nbformat": 4,
 "nbformat_minor": 5
}
